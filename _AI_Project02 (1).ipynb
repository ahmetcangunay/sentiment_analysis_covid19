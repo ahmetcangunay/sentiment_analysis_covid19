{
 "cells": [
  {
   "cell_type": "code",
   "execution_count": 26,
   "id": "ddb1201d",
   "metadata": {
    "scrolled": true
   },
   "outputs": [
    {
     "name": "stderr",
     "output_type": "stream",
     "text": [
      "[nltk_data] Downloading package vader_lexicon to\n",
      "[nltk_data]     C:\\Users\\yazga\\AppData\\Roaming\\nltk_data...\n",
      "[nltk_data]   Package vader_lexicon is already up-to-date!\n"
     ]
    },
    {
     "data": {
      "text/plain": [
       "\"@AaronKaviiri Well, it's not like we've a choice when they still contribute a huge chunk to our countries ' budgets, fund our essential services including education, military and health (donated Covid-19 vaccines), huge loans and grants! Worst of it, our leaders making home hell for us to stay\""
      ]
     },
     "execution_count": 26,
     "metadata": {},
     "output_type": "execute_result"
    }
   ],
   "source": [
    "from textblob import TextBlob\n",
    "import sys\n",
    "import twint\n",
    "import nest_asyncio\n",
    "import matplotlib.pyplot as plt\n",
    "import pandas as pd\n",
    "import numpy as np\n",
    "import os\n",
    "import nltk\n",
    "nltk.download('vader_lexicon')\n",
    "\n",
    "import re\n",
    "import string\n",
    "from wordcloud import WordCloud, STOPWORDS\n",
    "from PIL import Image\n",
    "from nltk.sentiment.vader import SentimentIntensityAnalyzer\n",
    "from nltk.stem import SnowballStemmer\n",
    "from nltk.sentiment.vader import SentimentIntensityAnalyzer\n",
    "from sklearn.feature_extraction.text import CountVectorizer\n",
    "\n",
    "\n",
    "df = pd.read_csv(\"/Users/yazga/Downloads/covid19_education_data.csv\")\n",
    "counts = df['tweet'].values \n",
    "\n",
    "df.insert(36, \"Sentiment\", 0, True)\n",
    "\n",
    "#df.drop(columns=['id', 'conversation_id','created_at','date','time','timezone',\n",
    "      #   'user_id','username','name','place','language','mentions','urls',\n",
    "       #  'photos','replies_count','retweets_count','likes_count','hashtags',\n",
    "       #  'cashtags','link','retweet','quote_url','video','thumbnail',\n",
    "       #  'near','geo','source','user_rt_id','user_rt','retweet_id',\n",
    "       #  'reply_to','retweet_date','translate','trans_src','trans_dest'], axis=1, inplace=True)\n",
    "\n",
    "\n",
    "counts[0]"
   ]
  },
  {
   "cell_type": "code",
   "execution_count": 2,
   "id": "c50314de",
   "metadata": {},
   "outputs": [],
   "source": [
    "def percentage(part,whole):\n",
    " return 100 * float(part)/float(whole)\n",
    " \n",
    "\n",
    "noOfTweet = 500\n",
    "\n",
    "\n",
    "positive = 0\n",
    "negative = 0\n",
    "neutral = 0\n",
    "polarity = 0\n",
    "tweet_list = []\n",
    "neutral_list = []\n",
    "negative_list = []\n",
    "positive_list = []\n",
    "\n",
    "\n",
    "\n",
    "for count in counts:\n",
    "  analysis = TextBlob(count)\n",
    "  score = SentimentIntensityAnalyzer().polarity_scores(count)\n",
    "  neg = score['neg']\n",
    "  neu = score['neu']\n",
    "  pos = score['pos']\n",
    "  comp = score['compound']\n",
    "  polarity += analysis.sentiment.polarity\n",
    "  \n",
    "  if neg > pos:\n",
    "    negative_list.append(count)\n",
    "    df.at[count,'Sentiment']=0\n",
    "    negative += 1\n",
    "  elif pos > neg:\n",
    "    positive_list.append(count)\n",
    "    df.at[count,'Sentiment']=2\n",
    "    positive += 1\n",
    "  \n",
    "  elif pos == neg:\n",
    "    neutral_list.append(count)\n",
    "    df.at[count,'Sentiment']=1\n",
    "    neutral += 1\n",
    "\n",
    "\n",
    "positive = percentage(positive, noOfTweet)\n",
    "negative = percentage(negative, noOfTweet)\n",
    "neutral = percentage(neutral, noOfTweet)\n",
    "polarity = percentage(polarity, noOfTweet)\n",
    "positive = format(positive, '.1f')\n",
    "negative = format(negative, '.1f')\n",
    "neutral = format(neutral, '.1f')\n",
    "\n",
    "\n"
   ]
  },
  {
   "cell_type": "code",
   "execution_count": 3,
   "id": "7624e2de",
   "metadata": {},
   "outputs": [],
   "source": [
    "from sklearn.model_selection import train_test_split\n",
    "\n",
    "\n",
    "tweets = df['tweet']\n",
    "sentiment = df['Sentiment']\n",
    "\n",
    "\n",
    "train_data, test_data, y_train, y_test=train_test_split(tweets,\n",
    "                                                  sentiment,\n",
    "                                                 test_size=0.30,\n",
    "                                                 random_state=42)\n",
    "\n"
   ]
  },
  {
   "cell_type": "code",
   "execution_count": 4,
   "id": "feb67ed9",
   "metadata": {},
   "outputs": [],
   "source": [
    "import string\n",
    "from nltk.tokenize import word_tokenize\n",
    "from nltk.corpus import stopwords\n",
    "\n",
    "train_all_data=list()\n",
    "lines = counts\n",
    "\n",
    "for line in lines:\n",
    "    tokens=word_tokenize(line)\n",
    "    tokens=[w.lower() for w in tokens]\n",
    "    table=str.maketrans('','',string.punctuation)\n",
    "    stripped = [w.translate(table) for w in tokens]\n",
    "    words=[word for word in stripped if word.isalpha()]\n",
    "    stop_words=set(stopwords.words('english'))\n",
    "    words=[w for w in words if not w in stop_words]\n",
    "    train_all_data.append(words)"
   ]
  },
  {
   "cell_type": "code",
   "execution_count": 27,
   "id": "24967720",
   "metadata": {
    "scrolled": true
   },
   "outputs": [
    {
     "data": {
      "text/plain": [
       "['aaronkaviiri',\n",
       " 'well',\n",
       " 'like',\n",
       " 'choice',\n",
       " 'still',\n",
       " 'contribute',\n",
       " 'huge',\n",
       " 'chunk',\n",
       " 'countries',\n",
       " 'budgets',\n",
       " 'fund',\n",
       " 'essential',\n",
       " 'services',\n",
       " 'including',\n",
       " 'education',\n",
       " 'military',\n",
       " 'health',\n",
       " 'donated',\n",
       " 'vaccines',\n",
       " 'huge',\n",
       " 'loans',\n",
       " 'grants',\n",
       " 'worst',\n",
       " 'leaders',\n",
       " 'making',\n",
       " 'home',\n",
       " 'hell',\n",
       " 'us',\n",
       " 'stay']"
      ]
     },
     "execution_count": 27,
     "metadata": {},
     "output_type": "execute_result"
    }
   ],
   "source": [
    "train_all_data[0]"
   ]
  },
  {
   "cell_type": "code",
   "execution_count": 6,
   "id": "166a3668",
   "metadata": {
    "scrolled": true
   },
   "outputs": [
    {
     "data": {
      "text/html": [
       "<div>\n",
       "<style scoped>\n",
       "    .dataframe tbody tr th:only-of-type {\n",
       "        vertical-align: middle;\n",
       "    }\n",
       "\n",
       "    .dataframe tbody tr th {\n",
       "        vertical-align: top;\n",
       "    }\n",
       "\n",
       "    .dataframe thead th {\n",
       "        text-align: right;\n",
       "    }\n",
       "</style>\n",
       "<table border=\"1\" class=\"dataframe\">\n",
       "  <thead>\n",
       "    <tr style=\"text-align: right;\">\n",
       "      <th></th>\n",
       "      <th>tweet</th>\n",
       "      <th>Sentiment</th>\n",
       "    </tr>\n",
       "  </thead>\n",
       "  <tbody>\n",
       "    <tr>\n",
       "      <th>0</th>\n",
       "      <td>@AaronKaviiri Well, it's not like we've a choi...</td>\n",
       "      <td>0.0</td>\n",
       "    </tr>\n",
       "    <tr>\n",
       "      <th>1</th>\n",
       "      <td>@jonlevyBU The fact that u have to defend your...</td>\n",
       "      <td>0.0</td>\n",
       "    </tr>\n",
       "    <tr>\n",
       "      <th>2</th>\n",
       "      <td>@StevenDelDuca @OntLiberal Ok, I own 0 guns, a...</td>\n",
       "      <td>0.0</td>\n",
       "    </tr>\n",
       "    <tr>\n",
       "      <th>3</th>\n",
       "      <td>@MicheleWojnar @DemocraticDaisy The pro death ...</td>\n",
       "      <td>0.0</td>\n",
       "    </tr>\n",
       "    <tr>\n",
       "      <th>4</th>\n",
       "      <td>Covid related lockdowns in 2020 added to our w...</td>\n",
       "      <td>0.0</td>\n",
       "    </tr>\n",
       "    <tr>\n",
       "      <th>...</th>\n",
       "      <td>...</td>\n",
       "      <td>...</td>\n",
       "    </tr>\n",
       "    <tr>\n",
       "      <th>@Lis_A_Martinez @TedMielczarek @PamBelluck not just to avoid hospitalization or death, but to avoid Long COVID.   We first need studies showing which therapeutics actually work in this regard.  Unfortunately, two years into this pandemic, that has not yet been done.  First we catch up on the data and public education....</th>\n",
       "      <td>NaN</td>\n",
       "      <td>0.0</td>\n",
       "    </tr>\n",
       "    <tr>\n",
       "      <th>@fucksakings i jus cant imagine myself in secondary education in a covid world. with college, there more option to protect myself and the prof. but in hs, the district prolly doesnt give a shit so i wouldn’t wanna be there</th>\n",
       "      <td>NaN</td>\n",
       "      <td>2.0</td>\n",
       "    </tr>\n",
       "    <tr>\n",
       "      <th>@Awesome_Knight5 @jaywhite81 @politicalplayer @NateSilver538 Pretty sure they just wanted to go about their daily lives and take their chances with Covid. Seems stupid to try and completely eliminate a highly-contagious virus while simultaneously ignoring the negative impact restrictions have on mental health, drug abuse, education, etc.</th>\n",
       "      <td>NaN</td>\n",
       "      <td>0.0</td>\n",
       "    </tr>\n",
       "    <tr>\n",
       "      <th>Took, like, 3 days for a new conspiracy theory about how m*nkeypox is actually a sh*ngles reaction to the COVID vaccine and that this whole thing is an elaborate cover-up.  This is what you get when you stop properly funding education — an easily-duped population of simpletons.</th>\n",
       "      <td>NaN</td>\n",
       "      <td>0.0</td>\n",
       "    </tr>\n",
       "    <tr>\n",
       "      <th>Oregon’s COVID-19 case rate is rising again, and that has state health and education officials worried.  https://t.co/AzxZ3BlRVj</th>\n",
       "      <td>NaN</td>\n",
       "      <td>0.0</td>\n",
       "    </tr>\n",
       "  </tbody>\n",
       "</table>\n",
       "<p>5155 rows × 2 columns</p>\n",
       "</div>"
      ],
      "text/plain": [
       "                                                                                                tweet  \\\n",
       "0                                                   @AaronKaviiri Well, it's not like we've a choi...   \n",
       "1                                                   @jonlevyBU The fact that u have to defend your...   \n",
       "2                                                   @StevenDelDuca @OntLiberal Ok, I own 0 guns, a...   \n",
       "3                                                   @MicheleWojnar @DemocraticDaisy The pro death ...   \n",
       "4                                                   Covid related lockdowns in 2020 added to our w...   \n",
       "...                                                                                               ...   \n",
       "@Lis_A_Martinez @TedMielczarek @PamBelluck not ...                                                NaN   \n",
       "@fucksakings i jus cant imagine myself in secon...                                                NaN   \n",
       "@Awesome_Knight5 @jaywhite81 @politicalplayer @...                                                NaN   \n",
       "Took, like, 3 days for a new conspiracy theory ...                                                NaN   \n",
       "Oregon’s COVID-19 case rate is rising again, an...                                                NaN   \n",
       "\n",
       "                                                    Sentiment  \n",
       "0                                                         0.0  \n",
       "1                                                         0.0  \n",
       "2                                                         0.0  \n",
       "3                                                         0.0  \n",
       "4                                                         0.0  \n",
       "...                                                       ...  \n",
       "@Lis_A_Martinez @TedMielczarek @PamBelluck not ...        0.0  \n",
       "@fucksakings i jus cant imagine myself in secon...        2.0  \n",
       "@Awesome_Knight5 @jaywhite81 @politicalplayer @...        0.0  \n",
       "Took, like, 3 days for a new conspiracy theory ...        0.0  \n",
       "Oregon’s COVID-19 case rate is rising again, an...        0.0  \n",
       "\n",
       "[5155 rows x 2 columns]"
      ]
     },
     "execution_count": 6,
     "metadata": {},
     "output_type": "execute_result"
    }
   ],
   "source": [
    "\n",
    "df"
   ]
  },
  {
   "cell_type": "code",
   "execution_count": 7,
   "id": "e5ac54cd",
   "metadata": {},
   "outputs": [
    {
     "name": "stdout",
     "output_type": "stream",
     "text": [
      "Vocubulary size : 4805\n"
     ]
    }
   ],
   "source": [
    "import gensim\n",
    "from gensim.test.utils import common_texts\n",
    "from gensim.models import Word2Vec\n",
    "embedding_dim= 50\n",
    "model=gensim.models.Word2Vec(sentences=train_all_data,\n",
    "                            vector_size=embedding_dim,\n",
    "                            window=5,\n",
    "                            min_count=1,\n",
    "                            workers=4,)\n",
    "\n",
    "words= len(model.wv)\n",
    "print('Vocubulary size : %d' %(words))"
   ]
  },
  {
   "cell_type": "code",
   "execution_count": 8,
   "id": "b98fa7d8",
   "metadata": {},
   "outputs": [
    {
     "data": {
      "text/plain": [
       "[('medical', 0.9985640645027161),\n",
       " ('actually', 0.9984803199768066),\n",
       " ('ill', 0.9984423518180847),\n",
       " ('better', 0.9984312653541565),\n",
       " ('fucking', 0.9983932375907898),\n",
       " ('kenney', 0.998374342918396),\n",
       " ('voting', 0.9983043670654297),\n",
       " ('income', 0.9982598423957825),\n",
       " ('making', 0.9982514381408691),\n",
       " ('problems', 0.9982492327690125)]"
      ]
     },
     "execution_count": 8,
     "metadata": {},
     "output_type": "execute_result"
    }
   ],
   "source": [
    "model.wv.most_similar('grade')"
   ]
  },
  {
   "cell_type": "code",
   "execution_count": 9,
   "id": "a7d102ec",
   "metadata": {},
   "outputs": [],
   "source": [
    "filename= 'embedding_Word2Vec.txt'\n",
    "model.wv.save_word2vec_format(filename, binary=False)"
   ]
  },
  {
   "cell_type": "code",
   "execution_count": 10,
   "id": "a256c922",
   "metadata": {},
   "outputs": [],
   "source": [
    "import os\n",
    "import numpy as np\n",
    "\n",
    "embeddings_index={}\n",
    "f = open(os.path.join('','embedding_Word2Vec.txt'), encoding='utf-8')\n",
    "\n",
    "for line in f:\n",
    "    values=line.split()\n",
    "    word=values[0]\n",
    "    coefs=np.asarray(values[1:])\n",
    "    embeddings_index[word]=coefs\n",
    "f.close()    "
   ]
  },
  {
   "cell_type": "code",
   "execution_count": 11,
   "id": "4fe52654",
   "metadata": {},
   "outputs": [
    {
     "name": "stdout",
     "output_type": "stream",
     "text": [
      "Unique tokens:5693\n"
     ]
    }
   ],
   "source": [
    "from keras.preprocessing.text import Tokenizer\n",
    "\n",
    "train_data=train_data.astype(str)\n",
    "test_data=test_data.astype(str)\n",
    "tokenizer = Tokenizer()\n",
    "tokenizer.fit_on_texts(train_data)\n",
    "\n",
    "X_train = tokenizer.texts_to_sequences(train_data)\n",
    "X_test =  tokenizer.texts_to_sequences(test_data)\n",
    "\n",
    "word_index = tokenizer.word_index\n",
    "print('Unique tokens:%d' %len(word_index))\n"
   ]
  },
  {
   "cell_type": "code",
   "execution_count": 12,
   "id": "b361caa6",
   "metadata": {},
   "outputs": [
    {
     "name": "stdout",
     "output_type": "stream",
     "text": [
      "@AaronKaviiri Well, it's not like we've a choice when they still contribute a huge chunk to our countries ' budgets, fund our essential services including education, military and health (donated Covid-19 vaccines), huge loans and grants! Worst of it, our leaders making home hell for us to stay\n",
      "[32]\n"
     ]
    }
   ],
   "source": [
    "print(train_data[0])\n",
    "print(X_train[0])"
   ]
  },
  {
   "cell_type": "code",
   "execution_count": 13,
   "id": "422f4c2d",
   "metadata": {},
   "outputs": [
    {
     "name": "stdout",
     "output_type": "stream",
     "text": [
      "Maxlen: 97\n",
      "Training data: (3608, 97)\n",
      "Test data: (1547, 97)\n"
     ]
    }
   ],
   "source": [
    "from keras.preprocessing.sequence import pad_sequences\n",
    "\n",
    "maxlen = max([len(x) for x in X_train])\n",
    "print('Maxlen:',maxlen)\n",
    "\n",
    "X_train = pad_sequences(X_train, padding='post', maxlen=maxlen)\n",
    "X_test = pad_sequences(X_test, padding='post', maxlen=maxlen)\n",
    "\n",
    "print('Training data:', X_train.shape)\n",
    "print('Test data:', X_test.shape)"
   ]
  },
  {
   "cell_type": "code",
   "execution_count": 14,
   "id": "5b4a8bdc",
   "metadata": {},
   "outputs": [],
   "source": [
    "num_words = len(word_index) + 1\n",
    "embedding_matrix = np.zeros((num_words, embedding_dim))\n",
    "\n",
    "for word, i in word_index.items():\n",
    "    if i>num_words:\n",
    "        continue\n",
    "    embedding_vector=embeddings_index.get(word)\n",
    "    if embedding_vector is not None:\n",
    "        embedding_matrix[i]=embedding_vector"
   ]
  },
  {
   "cell_type": "code",
   "execution_count": 15,
   "id": "b165e44f",
   "metadata": {},
   "outputs": [
    {
     "name": "stdout",
     "output_type": "stream",
     "text": [
      "5694\n"
     ]
    }
   ],
   "source": [
    "print(num_words)"
   ]
  },
  {
   "cell_type": "code",
   "execution_count": 16,
   "id": "416db181",
   "metadata": {},
   "outputs": [
    {
     "name": "stdout",
     "output_type": "stream",
     "text": [
      "Model: \"sequential\"\n",
      "_________________________________________________________________\n",
      "Layer (type)                 Output Shape              Param #   \n",
      "=================================================================\n",
      "embedding (Embedding)        (None, 97, 50)            284700    \n",
      "_________________________________________________________________\n",
      "global_max_pooling1d (Global (None, 50)                0         \n",
      "_________________________________________________________________\n",
      "dense (Dense)                (None, 10)                510       \n",
      "_________________________________________________________________\n",
      "dense_1 (Dense)              (None, 1)                 11        \n",
      "=================================================================\n",
      "Total params: 285,221\n",
      "Trainable params: 521\n",
      "Non-trainable params: 284,700\n",
      "_________________________________________________________________\n"
     ]
    }
   ],
   "source": [
    "from keras.models import Sequential\n",
    "from keras.layers import *\n",
    "from keras.layers.embeddings import Embedding\n",
    "from keras.initializers import Constant\n",
    "\n",
    "model=Sequential()\n",
    "model.add(Embedding(num_words,\n",
    "                   embedding_dim,\n",
    "                   embeddings_initializer=Constant(embedding_matrix),\n",
    "                   input_length=maxlen,\n",
    "                   trainable=False))\n",
    "model.add(GlobalMaxPool1D())\n",
    "model.add(Dense(10, activation='relu'))\n",
    "model.add(Dense(1, activation='sigmoid'))\n",
    "\n",
    "model.summary()"
   ]
  },
  {
   "cell_type": "code",
   "execution_count": 17,
   "id": "db76a5ed",
   "metadata": {},
   "outputs": [],
   "source": [
    "model.compile(optimizer='adam', loss='binary_crossentropy', metrics=['accuracy'])"
   ]
  },
  {
   "cell_type": "code",
   "execution_count": 18,
   "id": "005d73db",
   "metadata": {},
   "outputs": [
    {
     "name": "stdout",
     "output_type": "stream",
     "text": [
      "Epoch 1/10\n",
      "113/113 [==============================] - 0s 2ms/step - loss: 0.5235 - accuracy: 0.6788 - val_loss: 0.1985 - val_accuracy: 0.9412\n",
      "Epoch 2/10\n",
      "113/113 [==============================] - 0s 876us/step - loss: 0.1471 - accuracy: 0.9374 - val_loss: 0.1158 - val_accuracy: 0.9412\n",
      "Epoch 3/10\n",
      "113/113 [==============================] - 0s 895us/step - loss: 0.1075 - accuracy: 0.9374 - val_loss: 0.0965 - val_accuracy: 0.9412\n",
      "Epoch 4/10\n",
      "113/113 [==============================] - 0s 903us/step - loss: 0.0932 - accuracy: 0.9374 - val_loss: 0.0868 - val_accuracy: 0.9412\n",
      "Epoch 5/10\n",
      "113/113 [==============================] - 0s 813us/step - loss: 0.0865 - accuracy: 0.9210 - val_loss: 0.0822 - val_accuracy: 0.8985\n",
      "Epoch 6/10\n",
      "113/113 [==============================] - 0s 851us/step - loss: 0.0824 - accuracy: 0.8961 - val_loss: 0.0788 - val_accuracy: 0.8985\n",
      "Epoch 7/10\n",
      "113/113 [==============================] - 0s 808us/step - loss: 0.0791 - accuracy: 0.8961 - val_loss: 0.0760 - val_accuracy: 0.8985\n",
      "Epoch 8/10\n",
      "113/113 [==============================] - 0s 652us/step - loss: 0.0761 - accuracy: 0.8961 - val_loss: 0.0733 - val_accuracy: 0.8985\n",
      "Epoch 9/10\n",
      "113/113 [==============================] - 0s 708us/step - loss: 0.0733 - accuracy: 0.8961 - val_loss: 0.0707 - val_accuracy: 0.8985\n",
      "Epoch 10/10\n",
      "113/113 [==============================] - 0s 704us/step - loss: 0.0707 - accuracy: 0.8961 - val_loss: 0.0684 - val_accuracy: 0.8985\n"
     ]
    }
   ],
   "source": [
    "model_history = model.fit(X_train,y_train, epochs=10, validation_data=(X_test, y_test))"
   ]
  },
  {
   "cell_type": "code",
   "execution_count": 19,
   "id": "d36fd8fb",
   "metadata": {},
   "outputs": [
    {
     "name": "stdout",
     "output_type": "stream",
     "text": [
      "Training Accuracy:  0.8961\n",
      "Testing Accuracy:  0.8985\n"
     ]
    }
   ],
   "source": [
    "loss, accuracy = model.evaluate(X_train, y_train, verbose=False)\n",
    "print('Training Accuracy:  {:.4f}'.format(accuracy))\n",
    "\n",
    "loss, accuracy = model.evaluate(X_test, y_test, verbose=False)\n",
    "print('Testing Accuracy:  {:.4f}'.format(accuracy))"
   ]
  },
  {
   "cell_type": "code",
   "execution_count": 23,
   "id": "82cab8cb",
   "metadata": {},
   "outputs": [
    {
     "data": {
      "image/png": "[encoded data removed]",
      "text/plain": [
       "<Figure size 864x432 with 2 Axes>"
      ]
     },
     "metadata": {
      "needs_background": "light"
     },
     "output_type": "display_data"
    }
   ],
   "source": [
    "import matplotlib.pyplot as plt\n",
    "\n",
    "acc = model_history.history['accuracy']\n",
    "val_acc = model_history.history['val_accuracy']\n",
    "loss = model_history.history['loss']\n",
    "val_loss = model_history.history['val_loss']\n",
    "\n",
    "plt.figure(figsize=(12,6))\n",
    "plt.subplot(1,2,1)\n",
    "plt.plot(acc, 'b', label='Training Accuracy')\n",
    "plt.plot(val_acc, 'r', label='Validation accuracy')\n",
    "plt.xlabel('Epoch')\n",
    "plt.ylabel('Accuracy Value')\n",
    "plt.title('Training and Validation accuracy')\n",
    "plt.legend()\n",
    "\n",
    "plt.subplot(1,2,2)\n",
    "plt.plot(loss, 'b', label='Training loss')\n",
    "plt.plot(val_loss, 'r' ,label='Validation loss')\n",
    "plt.xlabel('Epoch')\n",
    "plt.ylabel('Loss Value')\n",
    "plt.title('Training and validation loss')\n",
    "plt.legend()\n",
    "\n",
    "plt.show()\n",
    "\n"
   ]
  },
  {
   "cell_type": "code",
   "execution_count": null,
   "id": "2dd79823",
   "metadata": {},
   "outputs": [],
   "source": []
  }
 ],
 "metadata": {
  "kernelspec": {
   "display_name": "Python 3 (ipykernel)",
   "language": "python",
   "name": "python3"
  },
  "language_info": {
   "codemirror_mode": {
    "name": "ipython",
    "version": 3
   },
   "file_extension": ".py",
   "mimetype": "text/x-python",
   "name": "python",
   "nbconvert_exporter": "python",
   "pygments_lexer": "ipython3",
   "version": "3.7.11"
  }
 },
 "nbformat": 4,
 "nbformat_minor": 5
}
